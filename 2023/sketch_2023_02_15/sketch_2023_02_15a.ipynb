{
 "cells": [
  {
   "cell_type": "code",
   "execution_count": 2,
   "id": "348cc72a-4d61-4a3f-b418-d6d5dc42b837",
   "metadata": {},
   "outputs": [],
   "source": [
    "from itertools import product"
   ]
  },
  {
   "cell_type": "code",
   "execution_count": 3,
   "id": "90074955-765d-48a7-8652-e659d9380de3",
   "metadata": {},
   "outputs": [],
   "source": [
    "positions = list(product((-1, 0, 1), repeat=2))"
   ]
  },
  {
   "cell_type": "code",
   "execution_count": 4,
   "id": "1d8b0256-b6e0-42a9-bb97-d56bca0092e5",
   "metadata": {
    "tags": []
   },
   "outputs": [
    {
     "data": {
      "text/plain": [
       "[(-1, -1), (-1, 0), (-1, 1), (0, -1), (0, 0), (0, 1), (1, -1), (1, 0), (1, 1)]"
      ]
     },
     "execution_count": 4,
     "metadata": {},
     "output_type": "execute_result"
    }
   ],
   "source": [
    "positions\n"
   ]
  },
  {
   "cell_type": "code",
   "execution_count": 5,
   "id": "a93f700c-1510-43f9-bf56-b023b64397f4",
   "metadata": {
    "tags": []
   },
   "outputs": [],
   "source": [
    "from itertools import combinations\n"
   ]
  },
  {
   "cell_type": "code",
   "execution_count": 6,
   "id": "bc0709b2-07ce-41e9-92af-a6fc09e473e7",
   "metadata": {
    "tags": []
   },
   "outputs": [
    {
     "data": {
      "text/plain": [
       "[((-1, -1), (-1, 0)),\n",
       " ((-1, -1), (-1, 1)),\n",
       " ((-1, -1), (0, -1)),\n",
       " ((-1, -1), (0, 0)),\n",
       " ((-1, -1), (0, 1)),\n",
       " ((-1, -1), (1, -1)),\n",
       " ((-1, -1), (1, 0)),\n",
       " ((-1, -1), (1, 1)),\n",
       " ((-1, 0), (-1, 1)),\n",
       " ((-1, 0), (0, -1)),\n",
       " ((-1, 0), (0, 0)),\n",
       " ((-1, 0), (0, 1)),\n",
       " ((-1, 0), (1, -1)),\n",
       " ((-1, 0), (1, 0)),\n",
       " ((-1, 0), (1, 1)),\n",
       " ((-1, 1), (0, -1)),\n",
       " ((-1, 1), (0, 0)),\n",
       " ((-1, 1), (0, 1)),\n",
       " ((-1, 1), (1, -1)),\n",
       " ((-1, 1), (1, 0)),\n",
       " ((-1, 1), (1, 1)),\n",
       " ((0, -1), (0, 0)),\n",
       " ((0, -1), (0, 1)),\n",
       " ((0, -1), (1, -1)),\n",
       " ((0, -1), (1, 0)),\n",
       " ((0, -1), (1, 1)),\n",
       " ((0, 0), (0, 1)),\n",
       " ((0, 0), (1, -1)),\n",
       " ((0, 0), (1, 0)),\n",
       " ((0, 0), (1, 1)),\n",
       " ((0, 1), (1, -1)),\n",
       " ((0, 1), (1, 0)),\n",
       " ((0, 1), (1, 1)),\n",
       " ((1, -1), (1, 0)),\n",
       " ((1, -1), (1, 1)),\n",
       " ((1, 0), (1, 1))]"
      ]
     },
     "execution_count": 6,
     "metadata": {},
     "output_type": "execute_result"
    }
   ],
   "source": [
    "combos = list(combinations(positions, 2))\n",
    "combos"
   ]
  },
  {
   "cell_type": "code",
   "execution_count": 9,
   "id": "14dbc2ea-040f-4b53-9f03-31c403dfd64e",
   "metadata": {},
   "outputs": [
    {
     "data": {
      "text/plain": [
       "36"
      ]
     },
     "execution_count": 9,
     "metadata": {},
     "output_type": "execute_result"
    }
   ],
   "source": [
    "len(combos)"
   ]
  },
  {
   "cell_type": "code",
   "execution_count": 7,
   "id": "830a83c0-a334-4b8b-a15f-ef3840c27071",
   "metadata": {},
   "outputs": [],
   "source": [
    "good_combos = [c for c in combos if (c[0][1] == c[1][1] and abs(c[0][0] - c[1][0]) == 1)]\n"
   ]
  },
  {
   "cell_type": "code",
   "execution_count": 8,
   "id": "a06afc8f-fd53-4d40-9fb6-e3ca5489a0a1",
   "metadata": {},
   "outputs": [
    {
     "data": {
      "text/plain": [
       "[((-1, -1), (0, -1)),\n",
       " ((-1, 0), (0, 0)),\n",
       " ((-1, 1), (0, 1)),\n",
       " ((0, -1), (1, -1)),\n",
       " ((0, 0), (1, 0)),\n",
       " ((0, 1), (1, 1))]"
      ]
     },
     "execution_count": 8,
     "metadata": {},
     "output_type": "execute_result"
    }
   ],
   "source": [
    "good_combos\n"
   ]
  },
  {
   "cell_type": "code",
   "execution_count": 9,
   "id": "84b5f640-bcc2-40cc-beac-ae9699eb64aa",
   "metadata": {},
   "outputs": [],
   "source": [
    "def setup():\n",
    "    size(400, 400)\n",
    "    \n",
    "    for i, j in positions:\n",
    "        x = 100 + 100 * i\n",
    "        y = 100 + 100 * j\n",
    "        circle(x, y, 100)\n",
    "        "
   ]
  },
  {
   "cell_type": "code",
   "execution_count": 10,
   "id": "4b56b9d1-f67c-4cb6-9048-e743d58fa57c",
   "metadata": {},
   "outputs": [],
   "source": [
    "run_sketch()"
   ]
  }
 ],
 "metadata": {
  "kernelspec": {
   "display_name": "py5",
   "language": "python",
   "name": "py5"
  },
  "language_info": {
   "codemirror_mode": {
    "name": "ipython",
    "version": 3
   },
   "file_extension": ".py",
   "mimetype": "text/x-python",
   "name": "python",
   "nbconvert_exporter": "python",
   "pygments_lexer": "ipython3",
   "version": "3.10.9"
  }
 },
 "nbformat": 4,
 "nbformat_minor": 5
}
