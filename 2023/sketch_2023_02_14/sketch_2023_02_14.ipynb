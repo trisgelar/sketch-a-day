{
 "cells": [
  {
   "cell_type": "code",
   "execution_count": 44,
   "id": "cee4a5df-b138-4f52-a5b5-3ab4bf1b2fe1",
   "metadata": {
    "tags": []
   },
   "outputs": [],
   "source": [
    "import numpy as np\n",
    "from random import shuffle\n",
    "\n",
    "noise_increment = 0.005\n",
    "\n",
    "def setup():\n",
    "    global mesh_x, mesh_y, r_map, g_map, b_map\n",
    "    size(500, 500)\n",
    "    color_mode(HSB)\n",
    "    cs = [color(int(h / 2) + 64, 128 + h / 2, 255)\n",
    "           for h in range(256)]\n",
    "    #shuffle(cs)\n",
    "    r_map =  np.array([c >> 16 & 0xFF for c in cs])\n",
    "    g_map =  np.array([c >> 8 & 0xFF for c in cs])\n",
    "    b_map =  np.array([c & 0xFF for c in cs])\n",
    "\n",
    "\n",
    "    mesh_x, mesh_y = np.meshgrid(\n",
    "        np.arange(0, width * noise_increment, noise_increment),\n",
    "        np.arange(0, height * noise_increment, noise_increment)\n",
    "    )\n",
    "\n",
    "\n",
    "    \n"
   ]
  },
  {
   "cell_type": "code",
   "execution_count": 49,
   "id": "2d52ed89-e847-4e1e-9eab-a7d1a46eb0a7",
   "metadata": {
    "tags": []
   },
   "outputs": [],
   "source": [
    "def draw():    \n",
    "    h = remap(os_noise(mesh_x, mesh_y, frame_count * noise_increment),\n",
    "              -1, 1, 0, 255).astype(np.uint8)\n",
    "    R = r_map[h]\n",
    "    G = g_map[np.flip(h)]\n",
    "    B = b_map[h.T]\n",
    "    npa = np.dstack((R, G, B))\n",
    "\n",
    "    set_np_pixels(npa, bands=\"L\")\n",
    "    window_title(str(round(get_frame_rate(), 1)))"
   ]
  },
  {
   "cell_type": "code",
   "execution_count": 50,
   "id": "2d884e88-e1ce-4199-8826-c640e3d298f0",
   "metadata": {
    "tags": []
   },
   "outputs": [],
   "source": [
    "run_sketch()"
   ]
  }
 ],
 "metadata": {
  "kernelspec": {
   "display_name": "py5",
   "language": "python",
   "name": "py5"
  },
  "language_info": {
   "codemirror_mode": {
    "name": "ipython",
    "version": 3
   },
   "file_extension": ".py",
   "mimetype": "text/x-python",
   "name": "python",
   "nbconvert_exporter": "python",
   "pygments_lexer": "ipython3",
   "version": "3.10.9"
  }
 },
 "nbformat": 4,
 "nbformat_minor": 5
}
